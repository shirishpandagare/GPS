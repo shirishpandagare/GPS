{
 "cells": [
  {
   "cell_type": "code",
   "execution_count": 1,
   "metadata": {},
   "outputs": [],
   "source": [
    "import numpy as np\n",
    "import pandas as pd\n",
    "import matplotlib.pyplot as plt"
   ]
  },
  {
   "cell_type": "code",
   "execution_count": 2,
   "metadata": {},
   "outputs": [],
   "source": [
    "data = pd.read_csv(\"Aggregated_data.csv\")"
   ]
  },
  {
   "cell_type": "code",
   "execution_count": 16,
   "metadata": {},
   "outputs": [
    {
     "data": {
      "text/plain": [
       "[<matplotlib.lines.Line2D at 0x11bf5fa20>]"
      ]
     },
     "execution_count": 16,
     "metadata": {},
     "output_type": "execute_result"
    },
    {
     "data": {
      "image/png": "[encoded data removed]",
      "text/plain": [
       "<Figure size 432x288 with 1 Axes>"
      ]
     },
     "metadata": {
      "needs_background": "light"
     },
     "output_type": "display_data"
    }
   ],
   "source": [
    "plt.plot(data.SNR8)"
   ]
  },
  {
   "cell_type": "code",
   "execution_count": 19,
   "metadata": {},
   "outputs": [
    {
     "data": {
      "text/html": [
       "<div>\n",
       "<style scoped>\n",
       "    .dataframe tbody tr th:only-of-type {\n",
       "        vertical-align: middle;\n",
       "    }\n",
       "\n",
       "    .dataframe tbody tr th {\n",
       "        vertical-align: top;\n",
       "    }\n",
       "\n",
       "    .dataframe thead th {\n",
       "        text-align: right;\n",
       "    }\n",
       "</style>\n",
       "<table border=\"1\" class=\"dataframe\">\n",
       "  <thead>\n",
       "    <tr style=\"text-align: right;\">\n",
       "      <th></th>\n",
       "      <th>Date_Time</th>\n",
       "      <th>GPS_Module_Detect</th>\n",
       "      <th>Use_Time_Detect</th>\n",
       "      <th>Enable GPS Module</th>\n",
       "      <th>at@gpsengine=1_OK</th>\n",
       "      <th>Use_Time_Enable_Sec</th>\n",
       "      <th>TTFF</th>\n",
       "      <th>SNR1</th>\n",
       "      <th>SNR2</th>\n",
       "      <th>SNR3</th>\n",
       "      <th>SNR4</th>\n",
       "      <th>SNR5</th>\n",
       "      <th>SNR6</th>\n",
       "      <th>SNR7</th>\n",
       "      <th>SNR8</th>\n",
       "      <th>Use_Time_Pass_Sec</th>\n",
       "      <th>Total_Time</th>\n",
       "      <th>Gate_way_no</th>\n",
       "    </tr>\n",
       "  </thead>\n",
       "  <tbody>\n",
       "    <tr>\n",
       "      <th>0</th>\n",
       "      <td>2018-04-21 04:44:48</td>\n",
       "      <td>True</td>\n",
       "      <td>12841.039</td>\n",
       "      <td>True</td>\n",
       "      <td>OK</td>\n",
       "      <td>3.57</td>\n",
       "      <td>31.0</td>\n",
       "      <td>44.0</td>\n",
       "      <td>44.0</td>\n",
       "      <td>44.0</td>\n",
       "      <td>44.0</td>\n",
       "      <td>45.0</td>\n",
       "      <td>44.0</td>\n",
       "      <td>44.0</td>\n",
       "      <td>44.0</td>\n",
       "      <td>34.87</td>\n",
       "      <td>00:01:18</td>\n",
       "      <td>GAKP-VFR-S7S</td>\n",
       "    </tr>\n",
       "    <tr>\n",
       "      <th>1</th>\n",
       "      <td>2018-04-15 12:55:09</td>\n",
       "      <td>True</td>\n",
       "      <td>12.887</td>\n",
       "      <td>True</td>\n",
       "      <td>OK</td>\n",
       "      <td>0.61</td>\n",
       "      <td>36.0</td>\n",
       "      <td>NaN</td>\n",
       "      <td>NaN</td>\n",
       "      <td>NaN</td>\n",
       "      <td>NaN</td>\n",
       "      <td>46.0</td>\n",
       "      <td>46.0</td>\n",
       "      <td>46.0</td>\n",
       "      <td>46.0</td>\n",
       "      <td>37.36</td>\n",
       "      <td>00:01:15</td>\n",
       "      <td>GTVV-AEG-TDA</td>\n",
       "    </tr>\n",
       "    <tr>\n",
       "      <th>2</th>\n",
       "      <td>2018-04-03 23:02:23</td>\n",
       "      <td>True</td>\n",
       "      <td>4896.598</td>\n",
       "      <td>True</td>\n",
       "      <td>OK</td>\n",
       "      <td>3.57</td>\n",
       "      <td>35.0</td>\n",
       "      <td>44.0</td>\n",
       "      <td>44.0</td>\n",
       "      <td>44.0</td>\n",
       "      <td>44.0</td>\n",
       "      <td>44.0</td>\n",
       "      <td>44.0</td>\n",
       "      <td>44.0</td>\n",
       "      <td>42.0</td>\n",
       "      <td>38.10</td>\n",
       "      <td>00:01:02</td>\n",
       "      <td>G8PX-PCB-DPF</td>\n",
       "    </tr>\n",
       "    <tr>\n",
       "      <th>3</th>\n",
       "      <td>2018-04-20 22:41:15</td>\n",
       "      <td>True</td>\n",
       "      <td>680.897</td>\n",
       "      <td>True</td>\n",
       "      <td>OK</td>\n",
       "      <td>3.57</td>\n",
       "      <td>38.0</td>\n",
       "      <td>44.0</td>\n",
       "      <td>44.0</td>\n",
       "      <td>44.0</td>\n",
       "      <td>44.0</td>\n",
       "      <td>NaN</td>\n",
       "      <td>NaN</td>\n",
       "      <td>NaN</td>\n",
       "      <td>NaN</td>\n",
       "      <td>40.76</td>\n",
       "      <td>00:01:21</td>\n",
       "      <td>GBXT-HMX-C3Z</td>\n",
       "    </tr>\n",
       "    <tr>\n",
       "      <th>4</th>\n",
       "      <td>2018-04-04 06:33:20</td>\n",
       "      <td>True</td>\n",
       "      <td>259.245</td>\n",
       "      <td>True</td>\n",
       "      <td>OK</td>\n",
       "      <td>3.58</td>\n",
       "      <td>22.0</td>\n",
       "      <td>46.0</td>\n",
       "      <td>46.0</td>\n",
       "      <td>46.0</td>\n",
       "      <td>46.0</td>\n",
       "      <td>NaN</td>\n",
       "      <td>NaN</td>\n",
       "      <td>NaN</td>\n",
       "      <td>NaN</td>\n",
       "      <td>25.80</td>\n",
       "      <td>00:00:47</td>\n",
       "      <td>GBGX-9U9-6HN</td>\n",
       "    </tr>\n",
       "  </tbody>\n",
       "</table>\n",
       "</div>"
      ],
      "text/plain": [
       "             Date_Time  GPS_Module_Detect  Use_Time_Detect  Enable GPS Module  \\\n",
       "0  2018-04-21 04:44:48               True        12841.039               True   \n",
       "1  2018-04-15 12:55:09               True           12.887               True   \n",
       "2  2018-04-03 23:02:23               True         4896.598               True   \n",
       "3  2018-04-20 22:41:15               True          680.897               True   \n",
       "4  2018-04-04 06:33:20               True          259.245               True   \n",
       "\n",
       "  at@gpsengine=1_OK  Use_Time_Enable_Sec  TTFF  SNR1  SNR2  SNR3  SNR4  SNR5  \\\n",
       "0                OK                 3.57  31.0  44.0  44.0  44.0  44.0  45.0   \n",
       "1                OK                 0.61  36.0   NaN   NaN   NaN   NaN  46.0   \n",
       "2                OK                 3.57  35.0  44.0  44.0  44.0  44.0  44.0   \n",
       "3                OK                 3.57  38.0  44.0  44.0  44.0  44.0   NaN   \n",
       "4                OK                 3.58  22.0  46.0  46.0  46.0  46.0   NaN   \n",
       "\n",
       "   SNR6  SNR7  SNR8  Use_Time_Pass_Sec Total_Time    Gate_way_no  \n",
       "0  44.0  44.0  44.0              34.87   00:01:18   GAKP-VFR-S7S  \n",
       "1  46.0  46.0  46.0              37.36   00:01:15   GTVV-AEG-TDA  \n",
       "2  44.0  44.0  42.0              38.10   00:01:02   G8PX-PCB-DPF  \n",
       "3   NaN   NaN   NaN              40.76   00:01:21   GBXT-HMX-C3Z  \n",
       "4   NaN   NaN   NaN              25.80   00:00:47   GBGX-9U9-6HN  "
      ]
     },
     "execution_count": 19,
     "metadata": {},
     "output_type": "execute_result"
    }
   ],
   "source": [
    "data.head()"
   ]
  },
  {
   "cell_type": "code",
   "execution_count": null,
   "metadata": {},
   "outputs": [],
   "source": []
  }
 ],
 "metadata": {
  "kernelspec": {
   "display_name": "Python 3",
   "language": "python",
   "name": "python3"
  },
  "language_info": {
   "codemirror_mode": {
    "name": "ipython",
    "version": 3
   },
   "file_extension": ".py",
   "mimetype": "text/x-python",
   "name": "python",
   "nbconvert_exporter": "python",
   "pygments_lexer": "ipython3",
   "version": "3.7.1"
  }
 },
 "nbformat": 4,
 "nbformat_minor": 2
}
