{
 "cells": [
  {
   "cell_type": "code",
   "execution_count": 1,
   "metadata": {},
   "outputs": [],
   "source": [
    "import os\n",
    "import numpy as np\n",
    "import pandas as pd\n",
    "import matplotlib.pyplot as plt"
   ]
  },
  {
   "cell_type": "code",
   "execution_count": 2,
   "metadata": {},
   "outputs": [],
   "source": [
    "# os.chdir(\"/Users/shirishpandagare/Resume/GPS_Test_Data/GPS Test Data/LI5-1834230M/PASS\")"
   ]
  },
  {
   "cell_type": "code",
   "execution_count": 4,
   "metadata": {},
   "outputs": [],
   "source": [
    "name_list = []\n",
    "for root, dirs, files in os.walk(\".\"):  \n",
    "    for filename in files:\n",
    "        name_list.append(filename)\n",
    "        \n",
    "# name_list.remove('Preprocessing.ipynb')\n",
    "# name_list.remove('Preprocessing-checkpoint.ipynb')\n",
    "# name_list.remove('Untitled-checkpoint.ipynb')\n",
    "# name_list.remove('.DS_Store')\n"
   ]
  },
  {
   "cell_type": "code",
   "execution_count": 13,
   "metadata": {},
   "outputs": [
    {
     "data": {
      "text/plain": [
       "['2018_04_21_GAKP-VFR-S7S.txt',\n",
       " '2018_04_15_GTVV-AEG-TDA.txt',\n",
       " '2018_04_03_G8PX-PCB-DPF.txt',\n",
       " '2018_04_20_GBXT-HMX-C3Z.txt',\n",
       " '2018_04_04_GBGX-9U9-6HN.txt',\n",
       " '2018_04_04_G23B-D53-PGV.txt',\n",
       " '2018_04_04_G5JN-URF-424.txt',\n",
       " '2018_04_04_GESD-HKB-FPG.txt',\n",
       " '2018_04_04_GAMV-3TU-BA4.txt',\n",
       " '2018_04_14_GVGG-P3N-S8H.txt',\n",
       " '2018_04_21_G3SR-32A-48J.txt',\n",
       " '2018_04_04_GKJS-JTD-SJJ.txt',\n",
       " '2018_04_20_GG95-8CE-W8M.txt',\n",
       " '2018_04_04_G3K6-PG9-E7J.txt',\n",
       " '2018_04_20_GDJK-B45-V6F.txt',\n",
       " '2018_04_01_GNSJ-TE9-XCB.txt',\n",
       " '2018_04_20_GHRT-RF9-E9K.txt',\n",
       " '2018_04_04_GTZK-V39-F2M.txt',\n",
       " '2018_04_21_GW7C-2BN-YAE.txt',\n",
       " '2018_04_21_GKD8-NAY-RC2.txt',\n",
       " '2018_04_20_GBYZ-56H-47C.txt',\n",
       " '2018_04_04_GED6-BEH-KA6.txt',\n",
       " '2018_04_14_GRAU-NJF-V22.txt',\n",
       " '2018_04_04_G7T3-P4X-YNY.txt',\n",
       " '2018_04_20_G7PJ-GUB-EGE.txt',\n",
       " '2018_04_04_G9KW-AZP-H3C.txt',\n",
       " '2018_03_08_GEPT-UCW-TUC.txt',\n",
       " '2018_04_20_G636-WWS-TKD.txt',\n",
       " '2018_04_04_GJVH-2TH-89B.txt',\n",
       " '2018_04_04_GY2R-RVS-W6E.txt',\n",
       " '2018_03_28_G3DJ-3RK-8HZ.txt',\n",
       " '2018_04_04_G9AM-YR8-242.txt',\n",
       " '2018_04_14_G3A2-ECG-96P.txt',\n",
       " '2018_03_28_G299-UJM-FFG.txt',\n",
       " '2018_04_14_GXS4-HXS-7WB.txt',\n",
       " '2018_03_09_G8CA-SF7-DTS.txt',\n",
       " '2018_04_14_GRNH-PSU-PMC.txt',\n",
       " '2018_04_21_GJFM-X58-JMS.txt',\n",
       " '2018_04_14_G6HG-2Y3-RS3.txt',\n",
       " '2018_04_21_G2Z2-4VP-R4F.txt',\n",
       " '2018_04_04_G9UA-JZM-NH7.txt',\n",
       " '2018_04_04_GE5N-7MM-BXR.txt',\n",
       " '2018_04_21_GJK7-DZZ-G7J.txt',\n",
       " '2018_03_28_G5A4-HT2-69E.txt',\n",
       " '2018_04_04_GTCM-SWM-9VT.txt',\n",
       " '2018_04_21_G8GA-KHG-WDM.txt',\n",
       " '2018_04_04_G5RD-RD8-KEW.txt',\n",
       " '2018_04_21_GMAF-ESA-SF5.txt',\n",
       " '2018_04_21_GP62-375-74A.txt',\n",
       " '2018_04_20_G8JU-5GR-9C9.txt',\n",
       " '2018_03_08_GP76-Z7K-E3C.txt',\n",
       " '2018_04_14_GB8C-588-Z8F.txt',\n",
       " '2018_04_20_GZJF-GJE-SPG.txt',\n",
       " '2018_04_04_GHGU-N25-TX4.txt',\n",
       " '2018_03_09_G8WS-XGT-SEB.txt',\n",
       " '2018_04_21_GJDX-YEN-3PF.txt',\n",
       " '2018_04_15_G745-N25-K6F.txt',\n",
       " '2018_04_04_GER4-W92-SVW.txt',\n",
       " '2018_04_04_GZND-GDM-6J6.txt',\n",
       " '2018_03_09_G9NS-GTG-F63.txt',\n",
       " '2018_04_04_GF5C-92W-RFB.txt',\n",
       " '2018_04_20_GE92-UAS-KYA.txt',\n",
       " '2018_04_04_GJ3T-EGX-JE2.txt',\n",
       " '2018_04_14_G6BK-4KM-U25.txt',\n",
       " '2018_04_04_GDZJ-SGE-6E5.txt',\n",
       " '2018_04_20_GM7R-S43-ECD.txt',\n",
       " '2018_04_20_GSAH-FH4-3G8.txt',\n",
       " '2018_04_21_GHTM-86B-ERR.txt',\n",
       " '2018_04_04_GASU-TDD-EUM.txt',\n",
       " '2018_04_14_GEA3-G3N-33H.txt',\n",
       " '2018_04_15_GGTV-D7N-5KS.txt',\n",
       " '2018_04_14_GZ9G-5X2-YT2.txt',\n",
       " '2018_04_15_GTDD-5CH-C3R.txt',\n",
       " '2018_04_04_GDUE-X4U-YR2.txt',\n",
       " '2018_04_09_G32P-YYV-B2V.txt',\n",
       " '2018_03_09_G5BW-J8V-VK4.txt',\n",
       " '2018_04_04_GAFY-VMV-5PT.txt',\n",
       " '2018_04_04_GC58-CT5-AUN.txt',\n",
       " '2018_04_21_G3FP-8X2-4NV.txt',\n",
       " '2018_03_28_G3UB-M78-56K.txt',\n",
       " '2018_04_04_GKYS-36M-7SN.txt',\n",
       " '2018_04_21_GU7D-WYP-STV.txt',\n",
       " '2018_04_21_GEYC-KCW-ETF.txt',\n",
       " '2018_04_15_GH32-JM2-GAE.txt',\n",
       " '2018_04_21_GCDS-EN8-3YV.txt',\n",
       " '2018_05_02_GRJB-DEU-E8K.txt',\n",
       " '2018_04_20_GZJP-JS3-D23.txt',\n",
       " '2018_04_20_GU8J-FJR-HHW.txt',\n",
       " '2018_03_08_GEVZ-MD7-YC7.txt',\n",
       " '2018_03_09_GMTC-HD6-647.txt',\n",
       " '2018_04_14_G9UG-TEE-ZD9.txt',\n",
       " '2018_04_04_G5GV-75B-7A9.txt',\n",
       " '2018_03_28_GT26-FPV-RVX.txt',\n",
       " '2018_04_04_GRK9-CG2-5TN.txt',\n",
       " '2018_04_21_GV7S-2US-S9T.txt',\n",
       " '2018_04_04_GYW2-JYP-8C6.txt',\n",
       " '2018_03_09_GCB2-7CP-W32.txt',\n",
       " '2018_04_20_GKHN-JFG-6KM.txt',\n",
       " '2018_03_08_GNWE-TN4-X7T.txt',\n",
       " '2018_03_08_GMFY-ZAU-E88.txt']"
      ]
     },
     "execution_count": 13,
     "metadata": {},
     "output_type": "execute_result"
    }
   ],
   "source": [
    "name_list[:100]"
   ]
  },
  {
   "cell_type": "code",
   "execution_count": 6,
   "metadata": {},
   "outputs": [],
   "source": [
    "def Drop(data):\n",
    "    \"\"\"Droping unnecessary columns\"\"\"\n",
    "    drop_col_name = [1,3,5,7,8,10,12,14,24]\n",
    "    df = data.drop(drop_col_name, axis = 1)\n",
    "    df.columns = [\"Date_Time\", \"GPS_Module_Detect\" ,\"Use_Time_Detect\", \"Enable GPS Module\",\"at@gpsengine=1_OK\",\\\n",
    "\"Use_Time_Enable_Sec\", \"GPS Signal Test\", \"TTFF\", \"SNR1\", \"SNR2\", \"SNR3\", \"SNR4\", \"SNR5\", \"SNR6\", \"SNR7\", \"SNR8\",\\\n",
    "\"Use_Time_Pass_Sec\" , \"Total_Time\"]\n",
    "    df.index = np.arange(df.shape[0])\n",
    "    return df "
   ]
  },
  {
   "cell_type": "code",
   "execution_count": 7,
   "metadata": {},
   "outputs": [],
   "source": [
    "def Aggregate(name_list):\n",
    "    appended_data = []\n",
    "    for i in range(len(name_list)):\n",
    "        file_path = name_list[i]\n",
    "        data = pd.read_csv(file_path, header = None)\n",
    "        data = data.T\n",
    "        if data.shape[1] == 27:\n",
    "            data = Drop(data)\n",
    "        \n",
    "        else:\n",
    "            data1 = data[np.arange(16)]\n",
    "            data2 = data[np.arange(16, data.shape[1])]\n",
    "            \n",
    "            if list(data2.iloc[0])[0].split(\" = \")[0] == \"SNR5\":\n",
    "                a = list(data2.iloc[0])\n",
    "                for ii in range(4):\n",
    "                    a.insert(0,np.nan)\n",
    "                data2 = pd.DataFrame(a).T\n",
    "                \n",
    "            elif list(data2.iloc[0])[0].split(\" = \")[0] == \"SNR1\":\n",
    "                a = list(data2.iloc[0])\n",
    "                length = len(a)\n",
    "                missing = 11 - length\n",
    "                for index in range(8-missing, 8):\n",
    "                    a.insert(index,np.nan)\n",
    "                data2 = pd.DataFrame(a).T\n",
    "            \n",
    "            data = pd.concat([data1, data2], axis=1)\n",
    "            data.columns = np.arange(data.shape[1])\n",
    "            data = Drop(data)\n",
    "            \n",
    "        appended_data.append(data)\n",
    "    df = pd.concat(appended_data, axis=0)\n",
    "    return df"
   ]
  },
  {
   "cell_type": "code",
   "execution_count": 8,
   "metadata": {},
   "outputs": [],
   "source": [
    "def PreProcess(data_drop):\n",
    "    \n",
    "    data_drop.index = np.arange(data_drop.shape[0])\n",
    "    data_drop[\"Gate_way_no\"] = data_drop.Date_Time.str.split(\"\\t\", expand = True)[1].str.split(\":\", expand = True)[1]\n",
    "    data_drop[\"Date_Time\"] = data_drop.Date_Time.str.split(\"\\t\", expand = True)[0]\n",
    "    data_drop[\"GPS_Module_Detect\"] = [True]*data_drop.shape[0]\n",
    "    data_drop[\"Enable GPS Module\"] = [True]*data_drop.shape[0]\n",
    "    data_drop[\"Use_Time_Detect\"] = data_drop.Use_Time_Detect.str.split(\" \", expand = True)[5]\n",
    "    data_drop[\"Use_Time_Enable_Sec\"] = data_drop.Use_Time_Enable_Sec.str.split(\" \", expand = True)[7]\n",
    "    data_drop[\"TTFF\"] = data_drop.TTFF.str.split(\" \", expand = True)[2]\n",
    "    data_drop[\"Use_Time_Pass_Sec\"] = data_drop.Use_Time_Pass_Sec.str.split(\" \", expand = True)[7]\n",
    "    data_drop[\"Total_Time\"] = data_drop.Total_Time.str.split(\" \", expand = True)[2]    \n",
    "    return data_drop"
   ]
  },
  {
   "cell_type": "code",
   "execution_count": 9,
   "metadata": {},
   "outputs": [],
   "source": [
    "def SNRPreproces(data):\n",
    "    data = data.drop([\"GPS Signal Test\"], axis= 1)\n",
    "    data[\"SNR1\"] = data.SNR1.str.split(\" = \", expand = True)[1]\n",
    "    data[\"SNR2\"] = data.SNR2.str.split(\" = \", expand = True)[1]\n",
    "    data[\"SNR3\"] = data.SNR3.str.split(\" = \", expand = True)[1]\n",
    "    data[\"SNR4\"] = data.SNR4.str.split(\" = \", expand = True)[1]\n",
    "    data[\"SNR5\"] = data.SNR5.str.split(\" = \", expand = True)[1]\n",
    "    data[\"SNR6\"] = data.SNR6.str.split(\" = \", expand = True)[1]\n",
    "    data[\"SNR7\"] = data.SNR7.str.split(\" = \", expand = True)[1]\n",
    "    data[\"SNR8\"] = data.SNR8.str.split(\" = \", expand = True)[1]\n",
    "    \n",
    "    return data"
   ]
  },
  {
   "cell_type": "code",
   "execution_count": 10,
   "metadata": {},
   "outputs": [
    {
     "ename": "ParserError",
     "evalue": "Error tokenizing data. C error: Expected 1 fields in line 4, saw 2\n",
     "output_type": "error",
     "traceback": [
      "\u001b[0;31m---------------------------------------------------------------------------\u001b[0m",
      "\u001b[0;31mParserError\u001b[0m                               Traceback (most recent call last)",
      "\u001b[0;32m<ipython-input-10-e67b8744866a>\u001b[0m in \u001b[0;36m<module>\u001b[0;34m\u001b[0m\n\u001b[0;32m----> 1\u001b[0;31m \u001b[0mdata\u001b[0m \u001b[0;34m=\u001b[0m \u001b[0mAggregate\u001b[0m\u001b[0;34m(\u001b[0m\u001b[0mname_list\u001b[0m\u001b[0;34m)\u001b[0m\u001b[0;34m\u001b[0m\u001b[0;34m\u001b[0m\u001b[0m\n\u001b[0m\u001b[1;32m      2\u001b[0m \u001b[0mdata_preprocess\u001b[0m \u001b[0;34m=\u001b[0m \u001b[0mPreProcess\u001b[0m\u001b[0;34m(\u001b[0m\u001b[0mdata\u001b[0m\u001b[0;34m)\u001b[0m\u001b[0;34m\u001b[0m\u001b[0;34m\u001b[0m\u001b[0m\n\u001b[1;32m      3\u001b[0m \u001b[0mdata_SNR\u001b[0m \u001b[0;34m=\u001b[0m \u001b[0mSNRPreproces\u001b[0m\u001b[0;34m(\u001b[0m\u001b[0mdata_preprocess\u001b[0m\u001b[0;34m)\u001b[0m\u001b[0;34m\u001b[0m\u001b[0;34m\u001b[0m\u001b[0m\n",
      "\u001b[0;32m<ipython-input-7-86889b085ba9>\u001b[0m in \u001b[0;36mAggregate\u001b[0;34m(name_list)\u001b[0m\n\u001b[1;32m      3\u001b[0m     \u001b[0;32mfor\u001b[0m \u001b[0mi\u001b[0m \u001b[0;32min\u001b[0m \u001b[0mrange\u001b[0m\u001b[0;34m(\u001b[0m\u001b[0mlen\u001b[0m\u001b[0;34m(\u001b[0m\u001b[0mname_list\u001b[0m\u001b[0;34m)\u001b[0m\u001b[0;34m)\u001b[0m\u001b[0;34m:\u001b[0m\u001b[0;34m\u001b[0m\u001b[0;34m\u001b[0m\u001b[0m\n\u001b[1;32m      4\u001b[0m         \u001b[0mfile_path\u001b[0m \u001b[0;34m=\u001b[0m \u001b[0mname_list\u001b[0m\u001b[0;34m[\u001b[0m\u001b[0mi\u001b[0m\u001b[0;34m]\u001b[0m\u001b[0;34m\u001b[0m\u001b[0;34m\u001b[0m\u001b[0m\n\u001b[0;32m----> 5\u001b[0;31m         \u001b[0mdata\u001b[0m \u001b[0;34m=\u001b[0m \u001b[0mpd\u001b[0m\u001b[0;34m.\u001b[0m\u001b[0mread_csv\u001b[0m\u001b[0;34m(\u001b[0m\u001b[0mfile_path\u001b[0m\u001b[0;34m,\u001b[0m \u001b[0mheader\u001b[0m \u001b[0;34m=\u001b[0m \u001b[0;32mNone\u001b[0m\u001b[0;34m)\u001b[0m\u001b[0;34m\u001b[0m\u001b[0;34m\u001b[0m\u001b[0m\n\u001b[0m\u001b[1;32m      6\u001b[0m         \u001b[0mdata\u001b[0m \u001b[0;34m=\u001b[0m \u001b[0mdata\u001b[0m\u001b[0;34m.\u001b[0m\u001b[0mT\u001b[0m\u001b[0;34m\u001b[0m\u001b[0;34m\u001b[0m\u001b[0m\n\u001b[1;32m      7\u001b[0m         \u001b[0;32mif\u001b[0m \u001b[0mdata\u001b[0m\u001b[0;34m.\u001b[0m\u001b[0mshape\u001b[0m\u001b[0;34m[\u001b[0m\u001b[0;36m1\u001b[0m\u001b[0;34m]\u001b[0m \u001b[0;34m==\u001b[0m \u001b[0;36m27\u001b[0m\u001b[0;34m:\u001b[0m\u001b[0;34m\u001b[0m\u001b[0;34m\u001b[0m\u001b[0m\n",
      "\u001b[0;32m~/anaconda3/lib/python3.7/site-packages/pandas/io/parsers.py\u001b[0m in \u001b[0;36mparser_f\u001b[0;34m(filepath_or_buffer, sep, delimiter, header, names, index_col, usecols, squeeze, prefix, mangle_dupe_cols, dtype, engine, converters, true_values, false_values, skipinitialspace, skiprows, nrows, na_values, keep_default_na, na_filter, verbose, skip_blank_lines, parse_dates, infer_datetime_format, keep_date_col, date_parser, dayfirst, iterator, chunksize, compression, thousands, decimal, lineterminator, quotechar, quoting, escapechar, comment, encoding, dialect, tupleize_cols, error_bad_lines, warn_bad_lines, skipfooter, doublequote, delim_whitespace, low_memory, memory_map, float_precision)\u001b[0m\n\u001b[1;32m    676\u001b[0m                     skip_blank_lines=skip_blank_lines)\n\u001b[1;32m    677\u001b[0m \u001b[0;34m\u001b[0m\u001b[0m\n\u001b[0;32m--> 678\u001b[0;31m         \u001b[0;32mreturn\u001b[0m \u001b[0m_read\u001b[0m\u001b[0;34m(\u001b[0m\u001b[0mfilepath_or_buffer\u001b[0m\u001b[0;34m,\u001b[0m \u001b[0mkwds\u001b[0m\u001b[0;34m)\u001b[0m\u001b[0;34m\u001b[0m\u001b[0;34m\u001b[0m\u001b[0m\n\u001b[0m\u001b[1;32m    679\u001b[0m \u001b[0;34m\u001b[0m\u001b[0m\n\u001b[1;32m    680\u001b[0m     \u001b[0mparser_f\u001b[0m\u001b[0;34m.\u001b[0m\u001b[0m__name__\u001b[0m \u001b[0;34m=\u001b[0m \u001b[0mname\u001b[0m\u001b[0;34m\u001b[0m\u001b[0;34m\u001b[0m\u001b[0m\n",
      "\u001b[0;32m~/anaconda3/lib/python3.7/site-packages/pandas/io/parsers.py\u001b[0m in \u001b[0;36m_read\u001b[0;34m(filepath_or_buffer, kwds)\u001b[0m\n\u001b[1;32m    444\u001b[0m \u001b[0;34m\u001b[0m\u001b[0m\n\u001b[1;32m    445\u001b[0m     \u001b[0;32mtry\u001b[0m\u001b[0;34m:\u001b[0m\u001b[0;34m\u001b[0m\u001b[0;34m\u001b[0m\u001b[0m\n\u001b[0;32m--> 446\u001b[0;31m         \u001b[0mdata\u001b[0m \u001b[0;34m=\u001b[0m \u001b[0mparser\u001b[0m\u001b[0;34m.\u001b[0m\u001b[0mread\u001b[0m\u001b[0;34m(\u001b[0m\u001b[0mnrows\u001b[0m\u001b[0;34m)\u001b[0m\u001b[0;34m\u001b[0m\u001b[0;34m\u001b[0m\u001b[0m\n\u001b[0m\u001b[1;32m    447\u001b[0m     \u001b[0;32mfinally\u001b[0m\u001b[0;34m:\u001b[0m\u001b[0;34m\u001b[0m\u001b[0;34m\u001b[0m\u001b[0m\n\u001b[1;32m    448\u001b[0m         \u001b[0mparser\u001b[0m\u001b[0;34m.\u001b[0m\u001b[0mclose\u001b[0m\u001b[0;34m(\u001b[0m\u001b[0;34m)\u001b[0m\u001b[0;34m\u001b[0m\u001b[0;34m\u001b[0m\u001b[0m\n",
      "\u001b[0;32m~/anaconda3/lib/python3.7/site-packages/pandas/io/parsers.py\u001b[0m in \u001b[0;36mread\u001b[0;34m(self, nrows)\u001b[0m\n\u001b[1;32m   1034\u001b[0m                 \u001b[0;32mraise\u001b[0m \u001b[0mValueError\u001b[0m\u001b[0;34m(\u001b[0m\u001b[0;34m'skipfooter not supported for iteration'\u001b[0m\u001b[0;34m)\u001b[0m\u001b[0;34m\u001b[0m\u001b[0;34m\u001b[0m\u001b[0m\n\u001b[1;32m   1035\u001b[0m \u001b[0;34m\u001b[0m\u001b[0m\n\u001b[0;32m-> 1036\u001b[0;31m         \u001b[0mret\u001b[0m \u001b[0;34m=\u001b[0m \u001b[0mself\u001b[0m\u001b[0;34m.\u001b[0m\u001b[0m_engine\u001b[0m\u001b[0;34m.\u001b[0m\u001b[0mread\u001b[0m\u001b[0;34m(\u001b[0m\u001b[0mnrows\u001b[0m\u001b[0;34m)\u001b[0m\u001b[0;34m\u001b[0m\u001b[0;34m\u001b[0m\u001b[0m\n\u001b[0m\u001b[1;32m   1037\u001b[0m \u001b[0;34m\u001b[0m\u001b[0m\n\u001b[1;32m   1038\u001b[0m         \u001b[0;31m# May alter columns / col_dict\u001b[0m\u001b[0;34m\u001b[0m\u001b[0;34m\u001b[0m\u001b[0;34m\u001b[0m\u001b[0m\n",
      "\u001b[0;32m~/anaconda3/lib/python3.7/site-packages/pandas/io/parsers.py\u001b[0m in \u001b[0;36mread\u001b[0;34m(self, nrows)\u001b[0m\n\u001b[1;32m   1846\u001b[0m     \u001b[0;32mdef\u001b[0m \u001b[0mread\u001b[0m\u001b[0;34m(\u001b[0m\u001b[0mself\u001b[0m\u001b[0;34m,\u001b[0m \u001b[0mnrows\u001b[0m\u001b[0;34m=\u001b[0m\u001b[0;32mNone\u001b[0m\u001b[0;34m)\u001b[0m\u001b[0;34m:\u001b[0m\u001b[0;34m\u001b[0m\u001b[0;34m\u001b[0m\u001b[0m\n\u001b[1;32m   1847\u001b[0m         \u001b[0;32mtry\u001b[0m\u001b[0;34m:\u001b[0m\u001b[0;34m\u001b[0m\u001b[0;34m\u001b[0m\u001b[0m\n\u001b[0;32m-> 1848\u001b[0;31m             \u001b[0mdata\u001b[0m \u001b[0;34m=\u001b[0m \u001b[0mself\u001b[0m\u001b[0;34m.\u001b[0m\u001b[0m_reader\u001b[0m\u001b[0;34m.\u001b[0m\u001b[0mread\u001b[0m\u001b[0;34m(\u001b[0m\u001b[0mnrows\u001b[0m\u001b[0;34m)\u001b[0m\u001b[0;34m\u001b[0m\u001b[0;34m\u001b[0m\u001b[0m\n\u001b[0m\u001b[1;32m   1849\u001b[0m         \u001b[0;32mexcept\u001b[0m \u001b[0mStopIteration\u001b[0m\u001b[0;34m:\u001b[0m\u001b[0;34m\u001b[0m\u001b[0;34m\u001b[0m\u001b[0m\n\u001b[1;32m   1850\u001b[0m             \u001b[0;32mif\u001b[0m \u001b[0mself\u001b[0m\u001b[0;34m.\u001b[0m\u001b[0m_first_chunk\u001b[0m\u001b[0;34m:\u001b[0m\u001b[0;34m\u001b[0m\u001b[0;34m\u001b[0m\u001b[0m\n",
      "\u001b[0;32mpandas/_libs/parsers.pyx\u001b[0m in \u001b[0;36mpandas._libs.parsers.TextReader.read\u001b[0;34m()\u001b[0m\n",
      "\u001b[0;32mpandas/_libs/parsers.pyx\u001b[0m in \u001b[0;36mpandas._libs.parsers.TextReader._read_low_memory\u001b[0;34m()\u001b[0m\n",
      "\u001b[0;32mpandas/_libs/parsers.pyx\u001b[0m in \u001b[0;36mpandas._libs.parsers.TextReader._read_rows\u001b[0;34m()\u001b[0m\n",
      "\u001b[0;32mpandas/_libs/parsers.pyx\u001b[0m in \u001b[0;36mpandas._libs.parsers.TextReader._tokenize_rows\u001b[0;34m()\u001b[0m\n",
      "\u001b[0;32mpandas/_libs/parsers.pyx\u001b[0m in \u001b[0;36mpandas._libs.parsers.raise_parser_error\u001b[0;34m()\u001b[0m\n",
      "\u001b[0;31mParserError\u001b[0m: Error tokenizing data. C error: Expected 1 fields in line 4, saw 2\n"
     ]
    }
   ],
   "source": [
    "data = Aggregate(name_list)\n",
    "data_preprocess = PreProcess(data)\n",
    "data_SNR = SNRPreproces(data_preprocess)"
   ]
  },
  {
   "cell_type": "code",
   "execution_count": 59,
   "metadata": {},
   "outputs": [],
   "source": [
    "data_SNR.to_csv(\"Aggregated_data.csv\", index = False)"
   ]
  },
  {
   "cell_type": "code",
   "execution_count": null,
   "metadata": {},
   "outputs": [],
   "source": []
  },
  {
   "cell_type": "code",
   "execution_count": null,
   "metadata": {},
   "outputs": [],
   "source": []
  },
  {
   "cell_type": "code",
   "execution_count": null,
   "metadata": {},
   "outputs": [],
   "source": []
  },
  {
   "cell_type": "code",
   "execution_count": null,
   "metadata": {},
   "outputs": [],
   "source": []
  },
  {
   "cell_type": "code",
   "execution_count": null,
   "metadata": {},
   "outputs": [],
   "source": []
  },
  {
   "cell_type": "code",
   "execution_count": null,
   "metadata": {},
   "outputs": [],
   "source": []
  }
 ],
 "metadata": {
  "kernelspec": {
   "display_name": "Python 3",
   "language": "python",
   "name": "python3"
  },
  "language_info": {
   "codemirror_mode": {
    "name": "ipython",
    "version": 3
   },
   "file_extension": ".py",
   "mimetype": "text/x-python",
   "name": "python",
   "nbconvert_exporter": "python",
   "pygments_lexer": "ipython3",
   "version": "3.7.1"
  }
 },
 "nbformat": 4,
 "nbformat_minor": 2
}
